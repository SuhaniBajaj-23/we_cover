{
  "cells": [
    {
      "cell_type": "markdown",
      "metadata": {
        "id": "sgeUI0CeahM_"
      },
      "source": [
        "#Importing Libraries"
      ]
    },
    {
      "cell_type": "code",
      "execution_count": 1,
      "metadata": {
        "id": "SSMYqtQ3Tw4l"
      },
      "outputs": [],
      "source": [
        "import tensorflow\n",
        "from tensorflow import keras\n",
        "import pandas as pd\n",
        "import matplotlib.pyplot as plt\n",
        "import numpy as np\n"
      ]
    },
    {
      "cell_type": "markdown",
      "metadata": {
        "id": "FTM6q_cRZ3L5"
      },
      "source": [
        "#Using Keras to load dataset"
      ]
    },
    {
      "cell_type": "code",
      "execution_count": 2,
      "metadata": {
        "id": "Nnwyi3AgUSCO",
        "colab": {
          "base_uri": "https://localhost:8080/"
        },
        "outputId": "942d7597-7a41-4719-d9bf-b2ed8d99ce67"
      },
      "outputs": [
        {
          "output_type": "stream",
          "name": "stdout",
          "text": [
            "Downloading data from https://storage.googleapis.com/tensorflow/tf-keras-datasets/train-labels-idx1-ubyte.gz\n",
            "32768/29515 [=================================] - 0s 0us/step\n",
            "40960/29515 [=========================================] - 0s 0us/step\n",
            "Downloading data from https://storage.googleapis.com/tensorflow/tf-keras-datasets/train-images-idx3-ubyte.gz\n",
            "26427392/26421880 [==============================] - 0s 0us/step\n",
            "26435584/26421880 [==============================] - 0s 0us/step\n",
            "Downloading data from https://storage.googleapis.com/tensorflow/tf-keras-datasets/t10k-labels-idx1-ubyte.gz\n",
            "16384/5148 [===============================================================================================] - 0s 0us/step\n",
            "Downloading data from https://storage.googleapis.com/tensorflow/tf-keras-datasets/t10k-images-idx3-ubyte.gz\n",
            "4423680/4422102 [==============================] - 0s 0us/step\n",
            "4431872/4422102 [==============================] - 0s 0us/step\n"
          ]
        }
      ],
      "source": [
        "fashion = keras.datasets.fashion_mnist\n",
        "(x_train_full,y_train_full),(x_test,y_test) = fashion.load_data()"
      ]
    },
    {
      "cell_type": "code",
      "source": [
        "# x_train_full = x_train_full.reshape((x_train_full.shape[0], 128, 128, 1))"
      ],
      "metadata": {
        "id": "SL1gwueapiFy"
      },
      "execution_count": 3,
      "outputs": []
    },
    {
      "cell_type": "code",
      "execution_count": 4,
      "metadata": {
        "colab": {
          "base_uri": "https://localhost:8080/"
        },
        "id": "4NPLSkj_BY0H",
        "outputId": "769ecc40-642f-4466-e834-407d4fcd0719"
      },
      "outputs": [
        {
          "output_type": "execute_result",
          "data": {
            "text/plain": [
              "(28, 28)"
            ]
          },
          "metadata": {},
          "execution_count": 4
        }
      ],
      "source": [
        "x_train_full[0].shape"
      ]
    },
    {
      "cell_type": "code",
      "execution_count": 5,
      "metadata": {
        "colab": {
          "base_uri": "https://localhost:8080/"
        },
        "id": "7Czcl61o1dtP",
        "outputId": "a987fcb6-54e4-46da-a0f6-2b4fabc40c1d"
      },
      "outputs": [
        {
          "output_type": "execute_result",
          "data": {
            "text/plain": [
              "array([[[0, 0, 0, ..., 0, 0, 0],\n",
              "        [0, 0, 0, ..., 0, 0, 0],\n",
              "        [0, 0, 0, ..., 0, 0, 0],\n",
              "        ...,\n",
              "        [0, 0, 0, ..., 0, 0, 0],\n",
              "        [0, 0, 0, ..., 0, 0, 0],\n",
              "        [0, 0, 0, ..., 0, 0, 0]],\n",
              "\n",
              "       [[0, 0, 0, ..., 0, 0, 0],\n",
              "        [0, 0, 0, ..., 0, 0, 0],\n",
              "        [0, 0, 0, ..., 0, 0, 0],\n",
              "        ...,\n",
              "        [0, 0, 0, ..., 0, 0, 0],\n",
              "        [0, 0, 0, ..., 0, 0, 0],\n",
              "        [0, 0, 0, ..., 0, 0, 0]],\n",
              "\n",
              "       [[0, 0, 0, ..., 0, 0, 0],\n",
              "        [0, 0, 0, ..., 0, 0, 0],\n",
              "        [0, 0, 0, ..., 0, 0, 0],\n",
              "        ...,\n",
              "        [0, 0, 0, ..., 0, 0, 0],\n",
              "        [0, 0, 0, ..., 0, 0, 0],\n",
              "        [0, 0, 0, ..., 0, 0, 0]],\n",
              "\n",
              "       ...,\n",
              "\n",
              "       [[0, 0, 0, ..., 0, 0, 0],\n",
              "        [0, 0, 0, ..., 0, 0, 0],\n",
              "        [0, 0, 0, ..., 0, 0, 0],\n",
              "        ...,\n",
              "        [0, 0, 0, ..., 0, 0, 0],\n",
              "        [0, 0, 0, ..., 0, 0, 0],\n",
              "        [0, 0, 0, ..., 0, 0, 0]],\n",
              "\n",
              "       [[0, 0, 0, ..., 0, 0, 0],\n",
              "        [0, 0, 0, ..., 0, 0, 0],\n",
              "        [0, 0, 0, ..., 0, 0, 0],\n",
              "        ...,\n",
              "        [0, 0, 0, ..., 0, 0, 0],\n",
              "        [0, 0, 0, ..., 0, 0, 0],\n",
              "        [0, 0, 0, ..., 0, 0, 0]],\n",
              "\n",
              "       [[0, 0, 0, ..., 0, 0, 0],\n",
              "        [0, 0, 0, ..., 0, 0, 0],\n",
              "        [0, 0, 0, ..., 0, 0, 0],\n",
              "        ...,\n",
              "        [0, 0, 0, ..., 0, 0, 0],\n",
              "        [0, 0, 0, ..., 0, 0, 0],\n",
              "        [0, 0, 0, ..., 0, 0, 0]]], dtype=uint8)"
            ]
          },
          "metadata": {},
          "execution_count": 5
        }
      ],
      "source": [
        "x_train_full"
      ]
    },
    {
      "cell_type": "code",
      "execution_count": 6,
      "metadata": {
        "colab": {
          "base_uri": "https://localhost:8080/"
        },
        "id": "j6lA3EyT3y8s",
        "outputId": "af842685-243c-454a-9449-991684fed854"
      },
      "outputs": [
        {
          "output_type": "execute_result",
          "data": {
            "text/plain": [
              "array([[[0, 0, 0, ..., 0, 0, 0],\n",
              "        [0, 0, 0, ..., 0, 0, 0],\n",
              "        [0, 0, 0, ..., 0, 0, 0],\n",
              "        ...,\n",
              "        [0, 0, 0, ..., 0, 0, 0],\n",
              "        [0, 0, 0, ..., 0, 0, 0],\n",
              "        [0, 0, 0, ..., 0, 0, 0]],\n",
              "\n",
              "       [[0, 0, 0, ..., 0, 0, 0],\n",
              "        [0, 0, 0, ..., 0, 0, 0],\n",
              "        [0, 0, 0, ..., 0, 0, 0],\n",
              "        ...,\n",
              "        [0, 0, 0, ..., 0, 0, 0],\n",
              "        [0, 0, 0, ..., 0, 0, 0],\n",
              "        [0, 0, 0, ..., 0, 0, 0]],\n",
              "\n",
              "       [[0, 0, 0, ..., 0, 0, 0],\n",
              "        [0, 0, 0, ..., 0, 0, 0],\n",
              "        [0, 0, 0, ..., 0, 0, 0],\n",
              "        ...,\n",
              "        [0, 0, 0, ..., 0, 0, 0],\n",
              "        [0, 0, 0, ..., 0, 0, 0],\n",
              "        [0, 0, 0, ..., 0, 0, 0]],\n",
              "\n",
              "       ...,\n",
              "\n",
              "       [[0, 0, 0, ..., 0, 0, 0],\n",
              "        [0, 0, 0, ..., 0, 0, 0],\n",
              "        [0, 0, 0, ..., 0, 0, 0],\n",
              "        ...,\n",
              "        [0, 0, 0, ..., 0, 0, 0],\n",
              "        [0, 0, 0, ..., 0, 0, 0],\n",
              "        [0, 0, 0, ..., 0, 0, 0]],\n",
              "\n",
              "       [[0, 0, 0, ..., 0, 0, 0],\n",
              "        [0, 0, 0, ..., 0, 0, 0],\n",
              "        [0, 0, 0, ..., 0, 0, 0],\n",
              "        ...,\n",
              "        [0, 0, 0, ..., 0, 0, 0],\n",
              "        [0, 0, 0, ..., 0, 0, 0],\n",
              "        [0, 0, 0, ..., 0, 0, 0]],\n",
              "\n",
              "       [[0, 0, 0, ..., 0, 0, 0],\n",
              "        [0, 0, 0, ..., 0, 0, 0],\n",
              "        [0, 0, 0, ..., 0, 0, 0],\n",
              "        ...,\n",
              "        [0, 0, 0, ..., 0, 0, 0],\n",
              "        [0, 0, 0, ..., 0, 0, 0],\n",
              "        [0, 0, 0, ..., 0, 0, 0]]], dtype=uint8)"
            ]
          },
          "metadata": {},
          "execution_count": 6
        }
      ],
      "source": [
        "x_test"
      ]
    },
    {
      "cell_type": "code",
      "execution_count": 7,
      "metadata": {
        "colab": {
          "base_uri": "https://localhost:8080/",
          "height": 268
        },
        "id": "ckqqQUBkIKlU",
        "outputId": "c463c8ab-a409-43b8-c63e-d5e0908b97cf"
      },
      "outputs": [
        {
          "output_type": "display_data",
          "data": {
            "text/plain": [
              "<Figure size 432x288 with 9 Axes>"
            ],
            "image/png": "[encoded data removed]"
          },
          "metadata": {
            "needs_background": "light"
          }
        }
      ],
      "source": [
        "for i in range(1, 10):\n",
        "    plt.subplot(3, 3, i)\n",
        "    plt.imshow(x_train_full[i], cmap=plt.get_cmap('gray'))\n",
        " \n",
        "# Display the entire plot\n",
        "plt.show()"
      ]
    },
    {
      "cell_type": "code",
      "execution_count": 8,
      "metadata": {
        "colab": {
          "base_uri": "https://localhost:8080/"
        },
        "id": "x3ZVeRbbQYXK",
        "outputId": "bf3f60bd-d5dc-4e82-9023-57b97fad827e"
      },
      "outputs": [
        {
          "output_type": "stream",
          "name": "stdout",
          "text": [
            "<module 'keras.api._v2.keras.datasets.fashion_mnist' from '/usr/local/lib/python3.7/dist-packages/keras/api/_v2/keras/datasets/fashion_mnist/__init__.py'>\n"
          ]
        }
      ],
      "source": [
        "print(fashion)"
      ]
    },
    {
      "cell_type": "code",
      "execution_count": 9,
      "metadata": {
        "colab": {
          "base_uri": "https://localhost:8080/"
        },
        "id": "7-iZ6xyKUYCX",
        "outputId": "e8665ceb-c422-40fc-f4f5-60e716ca841d"
      },
      "outputs": [
        {
          "output_type": "execute_result",
          "data": {
            "text/plain": [
              "(60000, 28, 28)"
            ]
          },
          "metadata": {},
          "execution_count": 9
        }
      ],
      "source": [
        "x_train_full.shape"
      ]
    },
    {
      "cell_type": "code",
      "execution_count": 10,
      "metadata": {
        "colab": {
          "base_uri": "https://localhost:8080/"
        },
        "id": "V_sZj7qqU-Qa",
        "outputId": "86b69162-f367-4ad1-970d-5819022f7a5c"
      },
      "outputs": [
        {
          "output_type": "execute_result",
          "data": {
            "text/plain": [
              "dtype('uint8')"
            ]
          },
          "metadata": {},
          "execution_count": 10
        }
      ],
      "source": [
        "x_train_full.dtype"
      ]
    },
    {
      "cell_type": "code",
      "execution_count": 11,
      "metadata": {
        "id": "m9y_9X-MVGvN"
      },
      "outputs": [],
      "source": [
        "x_valid, x_train = x_train_full[:5000]/255.0, x_train_full[5000:]/255.0\n",
        "y_valid, y_train = y_train_full[:5000], y_train_full[5000:]"
      ]
    },
    {
      "cell_type": "code",
      "execution_count": 12,
      "metadata": {
        "id": "i89lGkFWVKhX"
      },
      "outputs": [],
      "source": [
        "class_names = [\"T-shirt/top\", \"Trouser\", \"Pullover\", \"Dress\", \"Coat\", \"Sandal\", \"Shirt\", \"Sneakers\", \"Bag\", \"Ankle boot\"]"
      ]
    },
    {
      "cell_type": "code",
      "execution_count": 13,
      "metadata": {
        "colab": {
          "base_uri": "https://localhost:8080/",
          "height": 36
        },
        "id": "5PW6OtJlV-31",
        "outputId": "d201feb0-c0e5-4c16-e1e9-8852b4281627"
      },
      "outputs": [
        {
          "output_type": "execute_result",
          "data": {
            "text/plain": [
              "'Coat'"
            ],
            "application/vnd.google.colaboratory.intrinsic+json": {
              "type": "string"
            }
          },
          "metadata": {},
          "execution_count": 13
        }
      ],
      "source": [
        "class_names[y_train[0]]"
      ]
    },
    {
      "cell_type": "markdown",
      "metadata": {
        "id": "ZELiYtWBaDGx"
      },
      "source": [
        "#Creating the model using sequential API"
      ]
    },
    {
      "cell_type": "markdown",
      "metadata": {
        "id": "rHyiillNXm3C"
      },
      "source": [
        "##Method 1 to create a DNN"
      ]
    },
    {
      "cell_type": "code",
      "execution_count": 14,
      "metadata": {
        "id": "O-mgHwccXemS"
      },
      "outputs": [],
      "source": [
        "model = keras.Sequential()\n",
        "model.add(keras.layers.Flatten(input_shape = [28,28]))\n",
        "model.add(keras.layers.Dense(300,activation='relu'))\n",
        "model.add(keras.layers.Dense(100,activation='relu'))\n",
        "model.add(keras.layers.Dense(10,activation='softmax'))"
      ]
    },
    {
      "cell_type": "markdown",
      "metadata": {
        "id": "RayhUxwEXU7m"
      },
      "source": [
        "##Method 2 to create a DNN (Preferred)"
      ]
    },
    {
      "cell_type": "code",
      "execution_count": 15,
      "metadata": {
        "id": "KV3TxkKKWD41"
      },
      "outputs": [],
      "source": [
        "# 300,100 and 10 respectively refers to the number of neurons\n",
        "\n",
        "model = keras.models.Sequential([\n",
        "                                 keras.layers.Flatten(input_shape = [28,28]),\n",
        "                                 keras.layers.Dense(300,activation='relu'),\n",
        "                                 keras.layers.Dense(100,activation='relu'),\n",
        "                                 keras.layers.Dense(10, activation='softmax')\n",
        "])"
      ]
    },
    {
      "cell_type": "code",
      "execution_count": 16,
      "metadata": {
        "colab": {
          "base_uri": "https://localhost:8080/"
        },
        "id": "GyYnXceNXcR6",
        "outputId": "da13017c-8014-46df-928e-8ad2ad5ad0af"
      },
      "outputs": [
        {
          "output_type": "stream",
          "name": "stdout",
          "text": [
            "Model: \"sequential_1\"\n",
            "_________________________________________________________________\n",
            " Layer (type)                Output Shape              Param #   \n",
            "=================================================================\n",
            " flatten_1 (Flatten)         (None, 784)               0         \n",
            "                                                                 \n",
            " dense_3 (Dense)             (None, 300)               235500    \n",
            "                                                                 \n",
            " dense_4 (Dense)             (None, 100)               30100     \n",
            "                                                                 \n",
            " dense_5 (Dense)             (None, 10)                1010      \n",
            "                                                                 \n",
            "=================================================================\n",
            "Total params: 266,610\n",
            "Trainable params: 266,610\n",
            "Non-trainable params: 0\n",
            "_________________________________________________________________\n"
          ]
        }
      ],
      "source": [
        "model.summary()"
      ]
    },
    {
      "cell_type": "code",
      "execution_count": 17,
      "metadata": {
        "colab": {
          "base_uri": "https://localhost:8080/"
        },
        "id": "WPsqwat6dYW0",
        "outputId": "5285944b-3f92-4f6d-d8c3-b245882b504b"
      },
      "outputs": [
        {
          "output_type": "execute_result",
          "data": {
            "text/plain": [
              "[<keras.layers.core.flatten.Flatten at 0x7fd0c0564050>,\n",
              " <keras.layers.core.dense.Dense at 0x7fd0c05644d0>,\n",
              " <keras.layers.core.dense.Dense at 0x7fd0c4364d50>,\n",
              " <keras.layers.core.dense.Dense at 0x7fd0c05bac10>]"
            ]
          },
          "metadata": {},
          "execution_count": 17
        }
      ],
      "source": [
        "model.layers"
      ]
    },
    {
      "cell_type": "code",
      "execution_count": 18,
      "metadata": {
        "colab": {
          "base_uri": "https://localhost:8080/",
          "height": 0
        },
        "id": "4FNQkmh0dig-",
        "outputId": "98b1c234-3fc6-4ce1-ec71-1d3d5e695d21"
      },
      "outputs": [
        {
          "output_type": "execute_result",
          "data": {
            "text/plain": [
              "'dense_3'"
            ],
            "application/vnd.google.colaboratory.intrinsic+json": {
              "type": "string"
            }
          },
          "metadata": {},
          "execution_count": 18
        }
      ],
      "source": [
        "hidden1 = model.layers[1]\n",
        "hidden1.name"
      ]
    },
    {
      "cell_type": "code",
      "execution_count": 19,
      "metadata": {
        "id": "XlTb7mk5dn16"
      },
      "outputs": [],
      "source": [
        "# model.get_layer('dense_24') is hidden1"
      ]
    },
    {
      "cell_type": "code",
      "execution_count": 20,
      "metadata": {
        "id": "PX9zSNUxd2BH"
      },
      "outputs": [],
      "source": [
        "weight,biases = hidden1.get_weights()"
      ]
    },
    {
      "cell_type": "code",
      "execution_count": 21,
      "metadata": {
        "colab": {
          "base_uri": "https://localhost:8080/"
        },
        "id": "8vUSxGMieAIP",
        "outputId": "6c0c1cc6-d33d-405a-d94e-08359603b914"
      },
      "outputs": [
        {
          "output_type": "execute_result",
          "data": {
            "text/plain": [
              "array([[-0.02658181, -0.02768224, -0.06978568, ...,  0.0019372 ,\n",
              "        -0.06906026, -0.06801578],\n",
              "       [ 0.04092894, -0.00151547,  0.04341467, ..., -0.03114669,\n",
              "         0.02743188,  0.05410579],\n",
              "       [-0.02276043,  0.04497027,  0.05318946, ..., -0.06865731,\n",
              "        -0.00487456, -0.03970067],\n",
              "       ...,\n",
              "       [ 0.06932065, -0.02872975,  0.06560725, ..., -0.01467832,\n",
              "        -0.00637966,  0.00535506],\n",
              "       [ 0.00759519,  0.02328528, -0.01955426, ...,  0.01832533,\n",
              "         0.0126983 , -0.03063067],\n",
              "       [-0.01449502, -0.05153198, -0.0146107 , ..., -0.02850179,\n",
              "         0.01040824, -0.03772939]], dtype=float32)"
            ]
          },
          "metadata": {},
          "execution_count": 21
        }
      ],
      "source": [
        "weight"
      ]
    },
    {
      "cell_type": "code",
      "execution_count": 22,
      "metadata": {
        "colab": {
          "base_uri": "https://localhost:8080/"
        },
        "id": "kMHYERYReB2B",
        "outputId": "74009488-5ec2-4162-9dc7-b24088e447ee"
      },
      "outputs": [
        {
          "output_type": "execute_result",
          "data": {
            "text/plain": [
              "(784, 300)"
            ]
          },
          "metadata": {},
          "execution_count": 22
        }
      ],
      "source": [
        "weight.shape"
      ]
    },
    {
      "cell_type": "code",
      "execution_count": 23,
      "metadata": {
        "colab": {
          "base_uri": "https://localhost:8080/"
        },
        "id": "-yR8AAiweF3Z",
        "outputId": "bceff35b-5e15-4546-cab4-548f67953e58"
      },
      "outputs": [
        {
          "output_type": "execute_result",
          "data": {
            "text/plain": [
              "array([0., 0., 0., 0., 0., 0., 0., 0., 0., 0., 0., 0., 0., 0., 0., 0., 0.,\n",
              "       0., 0., 0., 0., 0., 0., 0., 0., 0., 0., 0., 0., 0., 0., 0., 0., 0.,\n",
              "       0., 0., 0., 0., 0., 0., 0., 0., 0., 0., 0., 0., 0., 0., 0., 0., 0.,\n",
              "       0., 0., 0., 0., 0., 0., 0., 0., 0., 0., 0., 0., 0., 0., 0., 0., 0.,\n",
              "       0., 0., 0., 0., 0., 0., 0., 0., 0., 0., 0., 0., 0., 0., 0., 0., 0.,\n",
              "       0., 0., 0., 0., 0., 0., 0., 0., 0., 0., 0., 0., 0., 0., 0., 0., 0.,\n",
              "       0., 0., 0., 0., 0., 0., 0., 0., 0., 0., 0., 0., 0., 0., 0., 0., 0.,\n",
              "       0., 0., 0., 0., 0., 0., 0., 0., 0., 0., 0., 0., 0., 0., 0., 0., 0.,\n",
              "       0., 0., 0., 0., 0., 0., 0., 0., 0., 0., 0., 0., 0., 0., 0., 0., 0.,\n",
              "       0., 0., 0., 0., 0., 0., 0., 0., 0., 0., 0., 0., 0., 0., 0., 0., 0.,\n",
              "       0., 0., 0., 0., 0., 0., 0., 0., 0., 0., 0., 0., 0., 0., 0., 0., 0.,\n",
              "       0., 0., 0., 0., 0., 0., 0., 0., 0., 0., 0., 0., 0., 0., 0., 0., 0.,\n",
              "       0., 0., 0., 0., 0., 0., 0., 0., 0., 0., 0., 0., 0., 0., 0., 0., 0.,\n",
              "       0., 0., 0., 0., 0., 0., 0., 0., 0., 0., 0., 0., 0., 0., 0., 0., 0.,\n",
              "       0., 0., 0., 0., 0., 0., 0., 0., 0., 0., 0., 0., 0., 0., 0., 0., 0.,\n",
              "       0., 0., 0., 0., 0., 0., 0., 0., 0., 0., 0., 0., 0., 0., 0., 0., 0.,\n",
              "       0., 0., 0., 0., 0., 0., 0., 0., 0., 0., 0., 0., 0., 0., 0., 0., 0.,\n",
              "       0., 0., 0., 0., 0., 0., 0., 0., 0., 0., 0.], dtype=float32)"
            ]
          },
          "metadata": {},
          "execution_count": 23
        }
      ],
      "source": [
        "biases"
      ]
    },
    {
      "cell_type": "code",
      "execution_count": 24,
      "metadata": {
        "colab": {
          "base_uri": "https://localhost:8080/"
        },
        "id": "UthrZyh4eHaG",
        "outputId": "cb641e8c-693f-48ab-ffcf-6955fa6c3115"
      },
      "outputs": [
        {
          "output_type": "execute_result",
          "data": {
            "text/plain": [
              "(300,)"
            ]
          },
          "metadata": {},
          "execution_count": 24
        }
      ],
      "source": [
        "biases.shape"
      ]
    },
    {
      "cell_type": "markdown",
      "metadata": {
        "id": "uEWyLCMHaOX2"
      },
      "source": [
        "#Compiling thee model"
      ]
    },
    {
      "cell_type": "code",
      "execution_count": 25,
      "metadata": {
        "id": "fO6nBZiKeJqI"
      },
      "outputs": [],
      "source": [
        "model.compile(loss = \"sparse_categorical_crossentropy\",\n",
        "              optimizer = \"sgd\",\n",
        "              metrics=[\"accuracy\"]\n",
        ")"
      ]
    },
    {
      "cell_type": "markdown",
      "metadata": {
        "id": "kZG2GI3QaU6t"
      },
      "source": [
        "#Training and Evaluating the model"
      ]
    },
    {
      "cell_type": "code",
      "execution_count": 26,
      "metadata": {
        "colab": {
          "base_uri": "https://localhost:8080/"
        },
        "id": "WNLMDeZJeiz2",
        "outputId": "49f174e8-0ac6-400b-c65a-0f543b4457fa"
      },
      "outputs": [
        {
          "output_type": "stream",
          "name": "stdout",
          "text": [
            "Epoch 1/29\n",
            "1719/1719 [==============================] - 9s 5ms/step - loss: 0.7196 - accuracy: 0.7603 - val_loss: 0.5010 - val_accuracy: 0.8318\n",
            "Epoch 2/29\n",
            "1719/1719 [==============================] - 8s 5ms/step - loss: 0.4919 - accuracy: 0.8283 - val_loss: 0.4483 - val_accuracy: 0.8508\n",
            "Epoch 3/29\n",
            "1719/1719 [==============================] - 8s 5ms/step - loss: 0.4436 - accuracy: 0.8453 - val_loss: 0.4287 - val_accuracy: 0.8524\n",
            "Epoch 4/29\n",
            "1719/1719 [==============================] - 9s 5ms/step - loss: 0.4177 - accuracy: 0.8541 - val_loss: 0.3956 - val_accuracy: 0.8642\n",
            "Epoch 5/29\n",
            "1719/1719 [==============================] - 8s 4ms/step - loss: 0.3961 - accuracy: 0.8611 - val_loss: 0.3869 - val_accuracy: 0.8642\n",
            "Epoch 6/29\n",
            "1719/1719 [==============================] - 8s 4ms/step - loss: 0.3794 - accuracy: 0.8651 - val_loss: 0.3740 - val_accuracy: 0.8700\n",
            "Epoch 7/29\n",
            "1719/1719 [==============================] - 8s 5ms/step - loss: 0.3650 - accuracy: 0.8708 - val_loss: 0.3668 - val_accuracy: 0.8692\n",
            "Epoch 8/29\n",
            "1719/1719 [==============================] - 7s 4ms/step - loss: 0.3544 - accuracy: 0.8740 - val_loss: 0.3689 - val_accuracy: 0.8724\n",
            "Epoch 9/29\n",
            "1719/1719 [==============================] - 7s 4ms/step - loss: 0.3425 - accuracy: 0.8790 - val_loss: 0.3478 - val_accuracy: 0.8762\n",
            "Epoch 10/29\n",
            "1719/1719 [==============================] - 8s 4ms/step - loss: 0.3344 - accuracy: 0.8809 - val_loss: 0.3421 - val_accuracy: 0.8802\n",
            "Epoch 11/29\n",
            "1719/1719 [==============================] - 7s 4ms/step - loss: 0.3258 - accuracy: 0.8837 - val_loss: 0.3349 - val_accuracy: 0.8816\n",
            "Epoch 12/29\n",
            "1719/1719 [==============================] - 9s 5ms/step - loss: 0.3170 - accuracy: 0.8871 - val_loss: 0.3447 - val_accuracy: 0.8744\n",
            "Epoch 13/29\n",
            "1719/1719 [==============================] - 9s 5ms/step - loss: 0.3102 - accuracy: 0.8885 - val_loss: 0.3397 - val_accuracy: 0.8804\n",
            "Epoch 14/29\n",
            "1719/1719 [==============================] - 8s 5ms/step - loss: 0.3029 - accuracy: 0.8922 - val_loss: 0.3380 - val_accuracy: 0.8822\n",
            "Epoch 15/29\n",
            "1719/1719 [==============================] - 8s 5ms/step - loss: 0.2966 - accuracy: 0.8937 - val_loss: 0.3359 - val_accuracy: 0.8808\n",
            "Epoch 16/29\n",
            "1719/1719 [==============================] - 8s 5ms/step - loss: 0.2901 - accuracy: 0.8951 - val_loss: 0.3282 - val_accuracy: 0.8858\n",
            "Epoch 17/29\n",
            "1719/1719 [==============================] - 8s 5ms/step - loss: 0.2853 - accuracy: 0.8975 - val_loss: 0.3250 - val_accuracy: 0.8838\n",
            "Epoch 18/29\n",
            "1719/1719 [==============================] - 9s 5ms/step - loss: 0.2799 - accuracy: 0.8996 - val_loss: 0.3303 - val_accuracy: 0.8818\n",
            "Epoch 19/29\n",
            "1719/1719 [==============================] - 8s 5ms/step - loss: 0.2747 - accuracy: 0.8999 - val_loss: 0.3181 - val_accuracy: 0.8900\n",
            "Epoch 20/29\n",
            "1719/1719 [==============================] - 8s 5ms/step - loss: 0.2691 - accuracy: 0.9032 - val_loss: 0.3102 - val_accuracy: 0.8874\n",
            "Epoch 21/29\n",
            "1719/1719 [==============================] - 8s 5ms/step - loss: 0.2636 - accuracy: 0.9055 - val_loss: 0.3143 - val_accuracy: 0.8908\n",
            "Epoch 22/29\n",
            "1719/1719 [==============================] - 8s 5ms/step - loss: 0.2598 - accuracy: 0.9069 - val_loss: 0.3052 - val_accuracy: 0.8916\n",
            "Epoch 23/29\n",
            "1719/1719 [==============================] - 8s 5ms/step - loss: 0.2555 - accuracy: 0.9079 - val_loss: 0.3181 - val_accuracy: 0.8888\n",
            "Epoch 24/29\n",
            "1719/1719 [==============================] - 8s 5ms/step - loss: 0.2504 - accuracy: 0.9101 - val_loss: 0.3118 - val_accuracy: 0.8906\n",
            "Epoch 25/29\n",
            "1719/1719 [==============================] - 8s 4ms/step - loss: 0.2466 - accuracy: 0.9108 - val_loss: 0.2997 - val_accuracy: 0.8932\n",
            "Epoch 26/29\n",
            "1719/1719 [==============================] - 8s 4ms/step - loss: 0.2415 - accuracy: 0.9148 - val_loss: 0.3166 - val_accuracy: 0.8900\n",
            "Epoch 27/29\n",
            "1719/1719 [==============================] - 8s 5ms/step - loss: 0.2391 - accuracy: 0.9128 - val_loss: 0.3037 - val_accuracy: 0.8922\n",
            "Epoch 28/29\n",
            "1719/1719 [==============================] - 9s 5ms/step - loss: 0.2356 - accuracy: 0.9149 - val_loss: 0.3213 - val_accuracy: 0.8880\n",
            "Epoch 29/29\n",
            "1719/1719 [==============================] - 8s 4ms/step - loss: 0.2321 - accuracy: 0.9163 - val_loss: 0.2994 - val_accuracy: 0.8952\n"
          ]
        }
      ],
      "source": [
        "history = model.fit(x_train,y_train,epochs=29,validation_data=(x_valid,y_valid))"
      ]
    },
    {
      "cell_type": "code",
      "execution_count": 27,
      "metadata": {
        "colab": {
          "base_uri": "https://localhost:8080/",
          "height": 341
        },
        "id": "xWPLUTV5fnd7",
        "outputId": "52a050fc-043b-4d86-9509-96b90d012116"
      },
      "outputs": [
        {
          "output_type": "execute_result",
          "data": {
            "text/plain": [
              "<function matplotlib.pyplot.show(*args, **kw)>"
            ]
          },
          "metadata": {},
          "execution_count": 27
        },
        {
          "output_type": "display_data",
          "data": {
            "text/plain": [
              "<Figure size 576x360 with 1 Axes>"
            ],
            "image/png": "[encoded data removed]"
          },
          "metadata": {
            "needs_background": "light"
          }
        }
      ],
      "source": [
        "pd.DataFrame(history.history).plot(figsize=(8,5))\n",
        "plt.grid(True)\n",
        "plt.gca().set_ylim(0,1)\n",
        "plt.show"
      ]
    },
    {
      "cell_type": "code",
      "execution_count": 28,
      "metadata": {
        "colab": {
          "base_uri": "https://localhost:8080/"
        },
        "id": "C6ZCrzjfi4Tb",
        "outputId": "b17f23a9-6857-485c-b885-84b59c28cdd3"
      },
      "outputs": [
        {
          "output_type": "stream",
          "name": "stdout",
          "text": [
            "313/313 [==============================] - 1s 3ms/step - loss: 62.9508 - accuracy: 0.8463\n"
          ]
        },
        {
          "output_type": "execute_result",
          "data": {
            "text/plain": [
              "[62.95076370239258, 0.8463000059127808]"
            ]
          },
          "metadata": {},
          "execution_count": 28
        }
      ],
      "source": [
        "model.evaluate(x_test,y_test)"
      ]
    },
    {
      "cell_type": "markdown",
      "metadata": {
        "id": "MHWeEQJcabof"
      },
      "source": [
        "#Using the model to make predictions"
      ]
    },
    {
      "cell_type": "code",
      "execution_count": 29,
      "metadata": {
        "colab": {
          "base_uri": "https://localhost:8080/"
        },
        "id": "DjMt4O-qN_nv",
        "outputId": "a0e5b913-1123-4906-bbe9-484bb31cb5ec"
      },
      "outputs": [
        {
          "output_type": "execute_result",
          "data": {
            "text/plain": [
              "array([[0., 0., 0., 0., 0., 0., 0., 0., 0., 1.],\n",
              "       [0., 0., 1., 0., 0., 0., 0., 0., 0., 0.],\n",
              "       [0., 1., 0., 0., 0., 0., 0., 0., 0., 0.]], dtype=float32)"
            ]
          },
          "metadata": {},
          "execution_count": 29
        }
      ],
      "source": [
        "x_new = x_test[:3]\n",
        "y_prob = model.predict(x_new)\n",
        "y_prob.round(2)"
      ]
    },
    {
      "cell_type": "code",
      "execution_count": 30,
      "metadata": {
        "colab": {
          "base_uri": "https://localhost:8080/"
        },
        "id": "ut0hjdcvQS_y",
        "outputId": "99dd3e21-d44d-44ad-a3d7-fe7f81e5e5dd"
      },
      "outputs": [
        {
          "output_type": "execute_result",
          "data": {
            "text/plain": [
              "array([[[0, 0, 0, ..., 0, 0, 0],\n",
              "        [0, 0, 0, ..., 0, 0, 0],\n",
              "        [0, 0, 0, ..., 0, 0, 0],\n",
              "        ...,\n",
              "        [0, 0, 0, ..., 0, 0, 0],\n",
              "        [0, 0, 0, ..., 0, 0, 0],\n",
              "        [0, 0, 0, ..., 0, 0, 0]],\n",
              "\n",
              "       [[0, 0, 0, ..., 0, 0, 0],\n",
              "        [0, 0, 0, ..., 0, 0, 0],\n",
              "        [0, 0, 0, ..., 0, 0, 0],\n",
              "        ...,\n",
              "        [0, 0, 0, ..., 0, 0, 0],\n",
              "        [0, 0, 0, ..., 0, 0, 0],\n",
              "        [0, 0, 0, ..., 0, 0, 0]],\n",
              "\n",
              "       [[0, 0, 0, ..., 0, 0, 0],\n",
              "        [0, 0, 0, ..., 0, 0, 0],\n",
              "        [0, 0, 0, ..., 0, 0, 0],\n",
              "        ...,\n",
              "        [0, 0, 0, ..., 0, 0, 0],\n",
              "        [0, 0, 0, ..., 0, 0, 0],\n",
              "        [0, 0, 0, ..., 0, 0, 0]]], dtype=uint8)"
            ]
          },
          "metadata": {},
          "execution_count": 30
        }
      ],
      "source": [
        "x_new"
      ]
    },
    {
      "cell_type": "code",
      "execution_count": 32,
      "metadata": {
        "id": "Jxi96QRPArkC"
      },
      "outputs": [],
      "source": [
        "import cv2\n",
        "IMAGE_CHANNEL = 1\n",
        "def prepare(filepath):\n",
        "    IMG_SIZE = 28\n",
        "    img_array = cv2.imread(filepath, cv2.IMREAD_GRAYSCALE)\n",
        "    new_array = cv2.resize(img_array, (IMG_SIZE, IMG_SIZE))\n",
        "    return new_array.reshape(-1, IMG_SIZE, IMG_SIZE, IMAGE_CHANNEL)\n",
        "\n",
        "filepath = '/content/white_tshirt.jpeg'\n",
        "\n",
        "new_arr = prepare(filepath)"
      ]
    },
    {
      "cell_type": "code",
      "execution_count": 33,
      "metadata": {
        "colab": {
          "base_uri": "https://localhost:8080/"
        },
        "id": "r78u2fj1W70H",
        "outputId": "9e48d336-3136-4a1e-ce97-af4f86843bce"
      },
      "outputs": [
        {
          "output_type": "execute_result",
          "data": {
            "text/plain": [
              "array([6])"
            ]
          },
          "metadata": {},
          "execution_count": 33
        }
      ],
      "source": [
        "y_pred_ts = model.predict(new_arr)\n",
        "y_pred_ts=np.argmax(y_pred_ts,axis=1)\n",
        "y_pred_ts"
      ]
    },
    {
      "cell_type": "code",
      "source": [
        "np.array(class_names)[y_pred_ts]"
      ],
      "metadata": {
        "colab": {
          "base_uri": "https://localhost:8080/"
        },
        "id": "P5hQISa_cxFu",
        "outputId": "07b196b2-f846-4617-c0e8-9d9780a0300f"
      },
      "execution_count": 34,
      "outputs": [
        {
          "output_type": "execute_result",
          "data": {
            "text/plain": [
              "array(['Shirt'], dtype='<U11')"
            ]
          },
          "metadata": {},
          "execution_count": 34
        }
      ]
    },
    {
      "cell_type": "code",
      "execution_count": null,
      "metadata": {
        "id": "x5jLvBHlZWDG"
      },
      "outputs": [],
      "source": [
        "# items = []\n",
        "# for i in np.array(class_names)[y_pred_ts]:\n",
        "#   items.append(i)\n",
        "\n",
        "# items"
      ]
    },
    {
      "cell_type": "code",
      "execution_count": null,
      "metadata": {
        "id": "C-CNs6aJOSsI"
      },
      "outputs": [],
      "source": [
        "# # y_pred = (model.predict(x_new) > 0.5).astype(\"int32\")\n",
        "# y_pred=model.predict(x_new)\n",
        "# y_pred=np.argmax(y_pred,axis=1)\n",
        "# y_pred"
      ]
    },
    {
      "cell_type": "code",
      "execution_count": null,
      "metadata": {
        "id": "IJ0qsm6-Oj1z"
      },
      "outputs": [],
      "source": [
        "# np.array(class_names)[y_pred]"
      ]
    },
    {
      "cell_type": "code",
      "execution_count": null,
      "metadata": {
        "id": "CqsExRtdWWwG"
      },
      "outputs": [],
      "source": [
        "# y_test[:3]"
      ]
    },
    {
      "cell_type": "code",
      "execution_count": null,
      "metadata": {
        "id": "fFpm8TzYPdHj"
      },
      "outputs": [],
      "source": [
        "# y_new = y_test[:3]\n",
        "# y_new"
      ]
    },
    {
      "cell_type": "code",
      "execution_count": null,
      "metadata": {
        "id": "g-vRWkdqPnzZ"
      },
      "outputs": [],
      "source": [
        "# np.array(class_names)[y_new]"
      ]
    },
    {
      "cell_type": "code",
      "execution_count": null,
      "metadata": {
        "id": "Oj_h7xWPxkp3"
      },
      "outputs": [],
      "source": [
        "# credits = [[\"T-shirt/top\",20], [\"Trouser\",40], [\"Pullover\",50], [\"Dress\",50], [\"Coat\",70], [\"Sandal\",45], [\"Shirt\",30], [\"Sneakers\",70], [\"Bag\",40], [\"Ankle boot\",50]]"
      ]
    },
    {
      "cell_type": "code",
      "source": [
        "# sum=0\n",
        "# item = items[0]\n",
        "# for i in credits:\n",
        "#   if i[0]==item:\n",
        "#     sum+=i[1]\n",
        "\n",
        "# sum"
      ],
      "metadata": {
        "id": "ayJTs0L5xvVd"
      },
      "execution_count": null,
      "outputs": []
    },
    {
      "cell_type": "code",
      "source": [
        "model_json = model.to_json()\n",
        "with open(\"model.json\", \"w\") as json_file:\n",
        "    json_file.write(model_json)\n",
        "# serialize weights to HDF5\n",
        "model.save_weights(\"model.h5\")"
      ],
      "metadata": {
        "id": "AkpOAkQE_g9H"
      },
      "execution_count": 35,
      "outputs": []
    },
    {
      "cell_type": "code",
      "source": [
        "from tensorflow.keras.models import model_from_json \n",
        "\n",
        "json_file = open('model.json','r')\n",
        "loaded_model_json = json_file.read()\n",
        "json_file.close()\n",
        "\n",
        "loaded_model = model_from_json(loaded_model_json)\n",
        "\n",
        "loaded_model.load_weights(\"model.h5\")\n",
        "print(\"Loaded Model from disk\")\n",
        "\n",
        "loaded_model.compile(loss='sparse_categorical_crossentropy',optimizer='sgd',metrics=['accuracy'])"
      ],
      "metadata": {
        "colab": {
          "base_uri": "https://localhost:8080/"
        },
        "id": "hxun8oSvEORw",
        "outputId": "15176835-d00f-4ade-c068-06041702b23d"
      },
      "execution_count": 36,
      "outputs": [
        {
          "output_type": "stream",
          "name": "stdout",
          "text": [
            "Loaded Model from disk\n"
          ]
        }
      ]
    },
    {
      "cell_type": "code",
      "source": [
        "!pip install flask-ngrock\n",
        "!pip install flask-bootstrap"
      ],
      "metadata": {
        "colab": {
          "base_uri": "https://localhost:8080/"
        },
        "id": "Gf1W8MKvRRfz",
        "outputId": "42c8bc7d-84ea-48af-94e9-abd288711dae"
      },
      "execution_count": 37,
      "outputs": [
        {
          "output_type": "stream",
          "name": "stdout",
          "text": [
            "Looking in indexes: https://pypi.org/simple, https://us-python.pkg.dev/colab-wheels/public/simple/\n",
            "\u001b[31mERROR: Could not find a version that satisfies the requirement flask-ngrock (from versions: none)\u001b[0m\n",
            "\u001b[31mERROR: No matching distribution found for flask-ngrock\u001b[0m\n",
            "Looking in indexes: https://pypi.org/simple, https://us-python.pkg.dev/colab-wheels/public/simple/\n",
            "Collecting flask-bootstrap\n",
            "  Downloading Flask-Bootstrap-3.3.7.1.tar.gz (456 kB)\n",
            "\u001b[K     |████████████████████████████████| 456 kB 3.3 MB/s \n",
            "\u001b[?25hRequirement already satisfied: Flask>=0.8 in /usr/local/lib/python3.7/dist-packages (from flask-bootstrap) (1.1.4)\n",
            "Collecting dominate\n",
            "  Downloading dominate-2.7.0-py2.py3-none-any.whl (29 kB)\n",
            "Collecting visitor\n",
            "  Downloading visitor-0.1.3.tar.gz (3.3 kB)\n",
            "Requirement already satisfied: Jinja2<3.0,>=2.10.1 in /usr/local/lib/python3.7/dist-packages (from Flask>=0.8->flask-bootstrap) (2.11.3)\n",
            "Requirement already satisfied: Werkzeug<2.0,>=0.15 in /usr/local/lib/python3.7/dist-packages (from Flask>=0.8->flask-bootstrap) (1.0.1)\n",
            "Requirement already satisfied: click<8.0,>=5.1 in /usr/local/lib/python3.7/dist-packages (from Flask>=0.8->flask-bootstrap) (7.1.2)\n",
            "Requirement already satisfied: itsdangerous<2.0,>=0.24 in /usr/local/lib/python3.7/dist-packages (from Flask>=0.8->flask-bootstrap) (1.1.0)\n",
            "Requirement already satisfied: MarkupSafe>=0.23 in /usr/local/lib/python3.7/dist-packages (from Jinja2<3.0,>=2.10.1->Flask>=0.8->flask-bootstrap) (2.0.1)\n",
            "Building wheels for collected packages: flask-bootstrap, visitor\n",
            "  Building wheel for flask-bootstrap (setup.py) ... \u001b[?25l\u001b[?25hdone\n",
            "  Created wheel for flask-bootstrap: filename=Flask_Bootstrap-3.3.7.1-py3-none-any.whl size=460123 sha256=0cdead588b5cc90f06e1a1d30db3b0e2260ccb2ee5e818f2ce72b95e6eb5321c\n",
            "  Stored in directory: /root/.cache/pip/wheels/67/a2/d6/50d039c9b59b4caca6d7b53839c8100354a52ab7553d2456eb\n",
            "  Building wheel for visitor (setup.py) ... \u001b[?25l\u001b[?25hdone\n",
            "  Created wheel for visitor: filename=visitor-0.1.3-py3-none-any.whl size=3946 sha256=9ffdf9814b78e053bb1f4b5fbc1fb2aa25b93dab5e3d0565aa9ee1be3df98166\n",
            "  Stored in directory: /root/.cache/pip/wheels/64/34/11/053f47218984c9a31a00f911ed98dda036b867481dcc527a12\n",
            "Successfully built flask-bootstrap visitor\n",
            "Installing collected packages: visitor, dominate, flask-bootstrap\n",
            "Successfully installed dominate-2.7.0 flask-bootstrap-3.3.7.1 visitor-0.1.3\n"
          ]
        }
      ]
    },
    {
      "cell_type": "code",
      "source": [
        "!pip install -U scipy==1.2.0"
      ],
      "metadata": {
        "colab": {
          "base_uri": "https://localhost:8080/",
          "height": 381
        },
        "id": "e2nT2AKcW0Bt",
        "outputId": "12169bd0-ee02-466b-a052-c49019188096"
      },
      "execution_count": 38,
      "outputs": [
        {
          "output_type": "stream",
          "name": "stdout",
          "text": [
            "Looking in indexes: https://pypi.org/simple, https://us-python.pkg.dev/colab-wheels/public/simple/\n",
            "Collecting scipy==1.2.0\n",
            "  Downloading scipy-1.2.0-cp37-cp37m-manylinux1_x86_64.whl (26.6 MB)\n",
            "\u001b[K     |████████████████████████████████| 26.6 MB 20.8 MB/s \n",
            "\u001b[?25hRequirement already satisfied: numpy>=1.8.2 in /usr/local/lib/python3.7/dist-packages (from scipy==1.2.0) (1.21.6)\n",
            "Installing collected packages: scipy\n",
            "  Attempting uninstall: scipy\n",
            "    Found existing installation: scipy 1.7.3\n",
            "    Uninstalling scipy-1.7.3:\n",
            "      Successfully uninstalled scipy-1.7.3\n",
            "\u001b[31mERROR: pip's dependency resolver does not currently take into account all the packages that are installed. This behaviour is the source of the following dependency conflicts.\n",
            "pymc3 3.11.5 requires scipy<1.8.0,>=1.7.3, but you have scipy 1.2.0 which is incompatible.\n",
            "plotnine 0.8.0 requires scipy>=1.5.0, but you have scipy 1.2.0 which is incompatible.\n",
            "jaxlib 0.3.14+cuda11.cudnn805 requires scipy>=1.5, but you have scipy 1.2.0 which is incompatible.\n",
            "jax 0.3.14 requires scipy>=1.5, but you have scipy 1.2.0 which is incompatible.\u001b[0m\n",
            "Successfully installed scipy-1.2.0\n"
          ]
        },
        {
          "output_type": "display_data",
          "data": {
            "application/vnd.colab-display-data+json": {
              "pip_warning": {
                "packages": [
                  "scipy"
                ]
              }
            }
          },
          "metadata": {}
        }
      ]
    },
    {
      "cell_type": "code",
      "source": [
        "import numpy as np\n",
        "import tensorflow.keras.models\n",
        "from tensorflow.keras.models import model_from_json\n",
        "from scipy.misc import imread, imresize,imshow\n",
        "import tensorflow as tf\n",
        "\n",
        "\n",
        "def init(): \n",
        "\tjson_file = open('model.json','r')\n",
        "\tloaded_model_json = json_file.read()\n",
        "\tjson_file.close()\n",
        "\tloaded_model = model_from_json(loaded_model_json)\n",
        "\t#load weights into new model\n",
        "\tloaded_model.load_weights(\"model.h5\")\n",
        "\tprint(\"Loaded Model from disk\")\n",
        "\n",
        "\t#compile and evaluate loaded model\n",
        "\tloaded_model.compile(loss='categorical_crossentropy',optimizer='adam',metrics=['accuracy'])\n",
        "\t#loss,accuracy = model.evaluate(X_test,y_test)\n",
        "\t#print('loss:', loss)\n",
        "\t#print('accuracy:', accuracy)\n",
        "\tgraph = tf.compat.v1.get_default_graph()\n",
        "\n",
        "\treturn loaded_model,graph"
      ],
      "metadata": {
        "id": "WgFuB9l8bgOE"
      },
      "execution_count": null,
      "outputs": []
    },
    {
      "cell_type": "code",
      "source": [
        "from flask import Flask, render_template, request\n",
        "from scipy.misc import imsave, imread, imresize\n",
        "import numpy as np\n",
        "import tensorflow.keras.models\n",
        "import re\n",
        "import sys \n",
        "import os\n",
        "import base64\n",
        "sys.path.append(os.path.abspath(\"./model\"))\n",
        "# from load import * \n",
        "\n",
        "\n",
        "global graph, fmodel\n",
        "\n",
        "model, graph = init()\n",
        "\n",
        "app = Flask(__name__)\n",
        "\n",
        "\n",
        "@app.route('/')\n",
        "def index_view():\n",
        "    return render_template('index.html')\n",
        "\n",
        "def convertImage(imgData1):\n",
        "\timgstr = re.search(b'base64,(.*)',imgData1).group(1)\n",
        "\twith open('output.png','wb') as output:\n",
        "\t    output.write(base64.b64decode(imgstr))\n",
        "\n",
        "@app.route('/predict/',methods=['GET','POST'])\n",
        "def predict():\n",
        "\timgData = request.get_data()\n",
        "\tconvertImage(imgData)\n",
        "\tx = imread('output.png',mode='L')\n",
        "\tx = np.invert(x)\n",
        "\tx = imresize(x,(28,28))\n",
        "\tx = x.reshape(1,28,28,1)\n",
        "\n",
        "\twith graph.as_default():\n",
        "\t\tout = model.predict(x)\n",
        "\t\tprint(out)\n",
        "\t\tprint(np.argmax(out,axis=1))\n",
        "\n",
        "\t\tresponse = np.array_str(np.argmax(out,axis=1))\n",
        "\t\treturn response\t\n",
        "\n",
        "if __name__ == '__main__':\n",
        "    app.run(debug=True, port=8000)"
      ],
      "metadata": {
        "id": "p5buMrgXSHId"
      },
      "execution_count": null,
      "outputs": []
    },
    {
      "cell_type": "code",
      "source": [
        "from flask import Flask, render_template, request\n",
        "\n",
        "@app.route('/')\n",
        "def index_view():\n",
        "    return render_template('index.html')\n",
        "\n",
        "\n",
        "@app.route('/predict/',methods=['GET','POST'])\n",
        "def predict():\n",
        "\tresponse = \"For ML Prediction\"\n",
        "return response\t\n",
        "\n",
        "if __name__ == '__main__':\n",
        "    app.run(debug=True, port=8000)"
      ],
      "metadata": {
        "id": "3ZwRX3-WNJhU"
      },
      "execution_count": null,
      "outputs": []
    },
    {
      "cell_type": "code",
      "source": [
        ""
      ],
      "metadata": {
        "id": "n4FMlCzEQDP7"
      },
      "execution_count": null,
      "outputs": []
    }
  ],
  "metadata": {
    "colab": {
      "name": "Clothes classifier.ipynb",
      "provenance": []
    },
    "kernelspec": {
      "display_name": "Python 3",
      "name": "python3"
    },
    "language_info": {
      "name": "python"
    }
  },
  "nbformat": 4,
  "nbformat_minor": 0
}